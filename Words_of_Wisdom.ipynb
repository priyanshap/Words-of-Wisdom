{
  "nbformat": 4,
  "nbformat_minor": 0,
  "metadata": {
    "colab": {
      "provenance": []
    },
    "kernelspec": {
      "name": "python3",
      "display_name": "Python 3"
    },
    "language_info": {
      "name": "python"
    }
  },
  "cells": [
    {
      "cell_type": "code",
      "source": [
        "import requests\n",
        "from bs4 import BeautifulSoup\n",
        "from csv import writer\n",
        "from time import sleep\n",
        "from random import choice\n",
        "\n",
        "# List to store scraped data\n",
        "all_quotes = []\n",
        "\n",
        "# Base URL for the quotes site\n",
        "base_url = \"http://quotes.toscrape.com/\"\n",
        "\n",
        "# Initial part of the URL that changes with each page\n",
        "page_url = \"/page/1\"\n",
        "\n",
        "while page_url:\n",
        "\n",
        "    # Construct the full URL and make a request\n",
        "    full_url = f\"{base_url}{page_url}\"\n",
        "    response = requests.get(full_url)\n",
        "    print(f\"🔍 Scraping data from: {full_url}\")\n",
        "    soup = BeautifulSoup(response.text, \"html.parser\")\n",
        "\n",
        "    # Extract all quote elements\n",
        "    quote_elements = soup.find_all(class_=\"quote\")\n",
        "\n",
        "    for element in quote_elements:\n",
        "        all_quotes.append({\n",
        "            \"quote_text\": element.find(class_=\"text\").get_text(),\n",
        "            \"quote_author\": element.find(class_=\"author\").get_text(),\n",
        "            \"author_bio_link\": element.find(\"a\")[\"href\"]\n",
        "        })\n",
        "    next_button = soup.find(class_=\"next\")\n",
        "    page_url = next_button.find(\"a\")[\"href\"] if next_button else None\n",
        "    sleep(2)\n",
        "\n",
        "selected_quote = choice(all_quotes)\n",
        "remaining_attempts = 4\n",
        "print(\"💬 Here's a quote for you to guess: \")\n",
        "print(f\"\\\"{selected_quote['quote_text']}\\\"\")\n",
        "\n",
        "user_guess = ''\n",
        "while user_guess.lower() != selected_quote[\"quote_author\"].lower() and remaining_attempts > 0:\n",
        "    user_guess = input(f\"🤔 Who said this quote? Attempts remaining: {remaining_attempts} \")\n",
        "\n",
        "    if user_guess.lower() == selected_quote[\"quote_author\"].lower():\n",
        "        print(\"🎉 CONGRATULATIONS!!! YOU GOT IT RIGHT 🎉\")\n",
        "        break\n",
        "    remaining_attempts -= 1\n",
        "\n",
        "    if remaining_attempts == 3:\n",
        "        response = requests.get(f\"{base_url}{selected_quote['author_bio_link']}\")\n",
        "        soup = BeautifulSoup(response.text, \"html.parser\")\n",
        "        birth_date = soup.find(class_=\"author-born-date\").get_text()\n",
        "        birth_place = soup.find(class_=\"author-born-location\").get_text()\n",
        "        print(f\"📝 Hint: The author was born on {birth_date} in {birth_place}\")\n",
        "\n",
        "    elif remaining_attempts == 2:\n",
        "        print(f\"📝 Hint: The author's first name starts with: {selected_quote['quote_author'][0]}\")\n",
        "\n",
        "    elif remaining_attempts == 1:\n",
        "        last_initial = selected_quote[\"quote_author\"].split(\" \")[1][0]\n",
        "        print(f\"📝 Hint: The author's last name starts with: {last_initial}\")\n",
        "\n",
        "    else:\n",
        "        print(f\"❌ Sorry, you've run out of attempts. The correct answer was {selected_quote['quote_author']}.\")\n",
        "\n"
      ],
      "metadata": {
        "colab": {
          "base_uri": "https://localhost:8080/"
        },
        "id": "sdcloTlRsu5j",
        "outputId": "e9e54f07-0648-42e3-a2cd-d80379f83b74"
      },
      "execution_count": 10,
      "outputs": [
        {
          "output_type": "stream",
          "name": "stdout",
          "text": [
            "🔍 Scraping data from: http://quotes.toscrape.com//page/1\n",
            "🔍 Scraping data from: http://quotes.toscrape.com//page/2/\n",
            "🔍 Scraping data from: http://quotes.toscrape.com//page/3/\n",
            "🔍 Scraping data from: http://quotes.toscrape.com//page/4/\n",
            "🔍 Scraping data from: http://quotes.toscrape.com//page/5/\n",
            "🔍 Scraping data from: http://quotes.toscrape.com//page/6/\n",
            "🔍 Scraping data from: http://quotes.toscrape.com//page/7/\n",
            "🔍 Scraping data from: http://quotes.toscrape.com//page/8/\n",
            "🔍 Scraping data from: http://quotes.toscrape.com//page/9/\n",
            "🔍 Scraping data from: http://quotes.toscrape.com//page/10/\n",
            "💬 Here's a quote for you to guess: \n",
            "\"“To die will be an awfully big adventure.”\"\n",
            "🤔 Who said this quote? Attempts remaining: 4 h\n",
            "📝 Hint: The author was born on May 09, 1860 in in Kirriemuir, Angus, Scotland, The United Kingdom\n",
            "🤔 Who said this quote? Attempts remaining: 3 J.M. Barrie\n",
            "🎉 CONGRATULATIONS!!! YOU GOT IT RIGHT 🎉\n"
          ]
        }
      ]
    }
  ]
}